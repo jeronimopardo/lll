{
 "cells": [
  {
   "cell_type": "code",
   "execution_count": 1,
   "metadata": {},
   "outputs": [],
   "source": [
    "import pandas as pd\n",
    "from glob import glob\n",
    "import numpy as np\n",
    "import seaborn as sns\n",
    "import re"
   ]
  },
  {
   "cell_type": "code",
   "execution_count": 2,
   "metadata": {},
   "outputs": [],
   "source": [
    "files=glob(r'C:\\Users\\Jeronimo.Pardo\\Documents\\lll\\Noggin Junio\\*.csv')\n",
    "\n",
    "\n",
    "carpeta= (r'C:\\Users\\Jeronimo.Pardo\\Documents\\lll\\Noggin Junio')"
   ]
  },
  {
   "cell_type": "code",
   "execution_count": 3,
   "metadata": {},
   "outputs": [
    {
     "data": {
      "text/plain": [
       "['C:\\\\Users\\\\Jeronimo.Pardo\\\\Documents\\\\lll\\\\Noggin Junio\\\\ADS.csv',\n",
       " 'C:\\\\Users\\\\Jeronimo.Pardo\\\\Documents\\\\lll\\\\Noggin Junio\\\\ADS_junio.csv',\n",
       " 'C:\\\\Users\\\\Jeronimo.Pardo\\\\Documents\\\\lll\\\\Noggin Junio\\\\Cambios.csv',\n",
       " 'C:\\\\Users\\\\Jeronimo.Pardo\\\\Documents\\\\lll\\\\Noggin Junio\\\\Cambios_BR.csv',\n",
       " 'C:\\\\Users\\\\Jeronimo.Pardo\\\\Documents\\\\lll\\\\Noggin Junio\\\\Facebook Insights Data Export (Post Level) - Noggin BR - 2019-07-04.csv',\n",
       " 'C:\\\\Users\\\\Jeronimo.Pardo\\\\Documents\\\\lll\\\\Noggin Junio\\\\Facebook Insights Data Export (Post Level) - Noggin Latinoamérica - 2019-07-04.csv',\n",
       " 'C:\\\\Users\\\\Jeronimo.Pardo\\\\Documents\\\\lll\\\\Noggin Junio\\\\Facebook Insights Data Export (Post Level) - Noggin Latinoamérica - 2019-07-26.csv',\n",
       " 'C:\\\\Users\\\\Jeronimo.Pardo\\\\Documents\\\\lll\\\\Noggin Junio\\\\Facebook Insights Data Export - Noggin BR - 2019-07-04.csv',\n",
       " 'C:\\\\Users\\\\Jeronimo.Pardo\\\\Documents\\\\lll\\\\Noggin Junio\\\\Facebook Insights Data Export - Noggin Latinoamérica - 2019-07-04.csv',\n",
       " 'C:\\\\Users\\\\Jeronimo.Pardo\\\\Documents\\\\lll\\\\Noggin Junio\\\\FB.csv',\n",
       " 'C:\\\\Users\\\\Jeronimo.Pardo\\\\Documents\\\\lll\\\\Noggin Junio\\\\FB_br.csv',\n",
       " 'C:\\\\Users\\\\Jeronimo.Pardo\\\\Documents\\\\lll\\\\Noggin Junio\\\\FB_followers_br.csv',\n",
       " 'C:\\\\Users\\\\Jeronimo.Pardo\\\\Documents\\\\lll\\\\Noggin Junio\\\\FB_followers_latam.csv',\n",
       " 'C:\\\\Users\\\\Jeronimo.Pardo\\\\Documents\\\\lll\\\\Noggin Junio\\\\FB_latam.csv',\n",
       " 'C:\\\\Users\\\\Jeronimo.Pardo\\\\Documents\\\\lll\\\\Noggin Junio\\\\IGLikes_br.csv',\n",
       " 'C:\\\\Users\\\\Jeronimo.Pardo\\\\Documents\\\\lll\\\\Noggin Junio\\\\IGLikes_la.csv',\n",
       " 'C:\\\\Users\\\\Jeronimo.Pardo\\\\Documents\\\\lll\\\\Noggin Junio\\\\IgStories_br.csv',\n",
       " 'C:\\\\Users\\\\Jeronimo.Pardo\\\\Documents\\\\lll\\\\Noggin Junio\\\\IgStories_la.csv',\n",
       " 'C:\\\\Users\\\\Jeronimo.Pardo\\\\Documents\\\\lll\\\\Noggin Junio\\\\IG_post_br.csv',\n",
       " 'C:\\\\Users\\\\Jeronimo.Pardo\\\\Documents\\\\lll\\\\Noggin Junio\\\\IG_post_la.csv',\n",
       " 'C:\\\\Users\\\\Jeronimo.Pardo\\\\Documents\\\\lll\\\\Noggin Junio\\\\Reporte-ad-Noggin-Jun-1-2019-Jun-30-2019.csv',\n",
       " 'C:\\\\Users\\\\Jeronimo.Pardo\\\\Documents\\\\lll\\\\Noggin Junio\\\\Reporte-ad-Noggin-May-24-2019-Jun-30-2019.csv']"
      ]
     },
     "execution_count": 3,
     "metadata": {},
     "output_type": "execute_result"
    }
   ],
   "source": [
    "files"
   ]
  },
  {
   "cell_type": "markdown",
   "metadata": {},
   "source": [
    "## Facebook - Posts"
   ]
  },
  {
   "cell_type": "code",
   "execution_count": 6,
   "metadata": {},
   "outputs": [],
   "source": [
    "df = pd.read_csv(files[6],sep=',', skiprows=[1], index_col=False)"
   ]
  },
  {
   "cell_type": "code",
   "execution_count": 397,
   "metadata": {},
   "outputs": [],
   "source": [
    "#df = pd.read_csv(r'%s\\Facebook Insights Data Export (Post Level) - Noggin Latinoamérica - 2019-06-26.csv' % carpeta, sep=',', skiprows=[1])"
   ]
  },
  {
   "cell_type": "code",
   "execution_count": 8,
   "metadata": {},
   "outputs": [],
   "source": [
    "## Fechas\n",
    "\n",
    "new = df['Posted'].str.split(\" \", n = 1, expand = True) \n",
    "df['Fecha'] = new[0]\n",
    "df['Hora'] = new[1]\n",
    "df['Dia'] = pd.DatetimeIndex(df['Fecha']).dayofweek\n",
    "dayDict = {6:'Domingo', 0:'Lunes', 1:'Martes', 2:'Miércoles', 3:'Jueves', 4: 'Viernes', 5:'Sábado' }\n",
    "df['Dia']=df['Dia'].map(dayDict)\n",
    "\n",
    "df['Fecha']= pd.to_datetime(df['Fecha']) \n",
    "df['Mes'] = df.Fecha.dt.month\n",
    "df['Hora']= pd.to_datetime(df['Hora']) \n",
    "df['Hora'] =  df.Hora.dt.hour\n",
    "\n",
    "\n",
    "##Campos calculados\n",
    "df=df.fillna(0)\n",
    "df['VTR'] = df['Lifetime Organic Video Views'] / df['Lifetime Post Total Reach']\n",
    "\n",
    "df['E.R.'] =(df['Lifetime Talking About This (Post) by action type - comment'] + df['Lifetime Talking About This (Post) by action type - like'] + df['Lifetime Talking About This (Post) by action type - share']+ df['Lifetime Post Audience Targeting Unique Consumptions by Type - other clicks'] + df['Lifetime Post Audience Targeting Unique Consumptions by Type - link clicks']) / df['Lifetime Post Total Reach']\n",
    "df=df.replace([np.inf, -np.inf], np.nan)\n",
    "\n",
    "df=df.fillna(0)\n",
    "\n",
    "##Comparativo\n",
    "x=pd.pivot_table(df, index='Mes', values=['Lifetime Post Total Reach', 'Lifetime Post organic reach','Lifetime Organic Video Views', 'Lifetime Talking About This (Post) by action type - comment', 'Lifetime Talking About This (Post) by action type - like','Lifetime Talking About This (Post) by action type - share','Lifetime Post Audience Targeting Unique Consumptions by Type - other clicks','Lifetime Post Audience Targeting Unique Consumptions by Type - link clicks'])\n",
    "#x=x.sort_values('Mes', ascending=False)\n",
    "\n",
    "x=x.pct_change()\n",
    "x=x.fillna(0)"
   ]
  },
  {
   "cell_type": "code",
   "execution_count": 9,
   "metadata": {},
   "outputs": [
    {
     "data": {
      "text/html": [
       "<div>\n",
       "<style scoped>\n",
       "    .dataframe tbody tr th:only-of-type {\n",
       "        vertical-align: middle;\n",
       "    }\n",
       "\n",
       "    .dataframe tbody tr th {\n",
       "        vertical-align: top;\n",
       "    }\n",
       "\n",
       "    .dataframe thead th {\n",
       "        text-align: right;\n",
       "    }\n",
       "</style>\n",
       "<table border=\"1\" class=\"dataframe\">\n",
       "  <thead>\n",
       "    <tr style=\"text-align: right;\">\n",
       "      <th></th>\n",
       "      <th>Countries</th>\n",
       "      <th>Languages</th>\n",
       "      <th>Lifetime Post Total Reach</th>\n",
       "      <th>Lifetime Post organic reach</th>\n",
       "      <th>Lifetime Post Paid Reach</th>\n",
       "      <th>Lifetime Post Total Impressions</th>\n",
       "      <th>Lifetime Post Organic Impressions</th>\n",
       "      <th>Lifetime Post Paid Impressions</th>\n",
       "      <th>Lifetime Engaged Users</th>\n",
       "      <th>Lifetime Matched Audience Targeting Consumers on Post</th>\n",
       "      <th>...</th>\n",
       "      <th>Lifetime Matched Audience Targeting Consumptions by Type - video play</th>\n",
       "      <th>Lifetime Matched Audience Targeting Consumptions by Type - other clicks</th>\n",
       "      <th>Lifetime Matched Audience Targeting Consumptions by Type - link clicks</th>\n",
       "      <th>Lifetime Matched Audience Targeting Consumptions by Type - photo view</th>\n",
       "      <th>Lifetime Negative Feedback from Users by Type - hide_all_clicks</th>\n",
       "      <th>Lifetime Negative Feedback by Type - hide_all_clicks</th>\n",
       "      <th>Hora</th>\n",
       "      <th>Mes</th>\n",
       "      <th>VTR</th>\n",
       "      <th>E.R.</th>\n",
       "    </tr>\n",
       "    <tr>\n",
       "      <th>Dia</th>\n",
       "      <th></th>\n",
       "      <th></th>\n",
       "      <th></th>\n",
       "      <th></th>\n",
       "      <th></th>\n",
       "      <th></th>\n",
       "      <th></th>\n",
       "      <th></th>\n",
       "      <th></th>\n",
       "      <th></th>\n",
       "      <th></th>\n",
       "      <th></th>\n",
       "      <th></th>\n",
       "      <th></th>\n",
       "      <th></th>\n",
       "      <th></th>\n",
       "      <th></th>\n",
       "      <th></th>\n",
       "      <th></th>\n",
       "      <th></th>\n",
       "      <th></th>\n",
       "    </tr>\n",
       "  </thead>\n",
       "  <tbody>\n",
       "    <tr>\n",
       "      <th>Domingo</th>\n",
       "      <td>0.0</td>\n",
       "      <td>0.0</td>\n",
       "      <td>630</td>\n",
       "      <td>630</td>\n",
       "      <td>0</td>\n",
       "      <td>838</td>\n",
       "      <td>838</td>\n",
       "      <td>0</td>\n",
       "      <td>83</td>\n",
       "      <td>75</td>\n",
       "      <td>...</td>\n",
       "      <td>141.0</td>\n",
       "      <td>36.0</td>\n",
       "      <td>0.0</td>\n",
       "      <td>0.0</td>\n",
       "      <td>0.0</td>\n",
       "      <td>0.0</td>\n",
       "      <td>6</td>\n",
       "      <td>3</td>\n",
       "      <td>0.211111</td>\n",
       "      <td>0.041270</td>\n",
       "    </tr>\n",
       "    <tr>\n",
       "      <th>Jueves</th>\n",
       "      <td>0.0</td>\n",
       "      <td>0.0</td>\n",
       "      <td>1247</td>\n",
       "      <td>1247</td>\n",
       "      <td>0</td>\n",
       "      <td>1757</td>\n",
       "      <td>1757</td>\n",
       "      <td>0</td>\n",
       "      <td>593</td>\n",
       "      <td>579</td>\n",
       "      <td>...</td>\n",
       "      <td>680.0</td>\n",
       "      <td>73.0</td>\n",
       "      <td>0.0</td>\n",
       "      <td>0.0</td>\n",
       "      <td>0.0</td>\n",
       "      <td>0.0</td>\n",
       "      <td>21</td>\n",
       "      <td>11</td>\n",
       "      <td>1.506244</td>\n",
       "      <td>0.176583</td>\n",
       "    </tr>\n",
       "    <tr>\n",
       "      <th>Lunes</th>\n",
       "      <td>0.0</td>\n",
       "      <td>0.0</td>\n",
       "      <td>435</td>\n",
       "      <td>435</td>\n",
       "      <td>0</td>\n",
       "      <td>635</td>\n",
       "      <td>635</td>\n",
       "      <td>0</td>\n",
       "      <td>120</td>\n",
       "      <td>103</td>\n",
       "      <td>...</td>\n",
       "      <td>115.0</td>\n",
       "      <td>31.0</td>\n",
       "      <td>0.0</td>\n",
       "      <td>12.0</td>\n",
       "      <td>1.0</td>\n",
       "      <td>1.0</td>\n",
       "      <td>13</td>\n",
       "      <td>6</td>\n",
       "      <td>0.340376</td>\n",
       "      <td>1.836463</td>\n",
       "    </tr>\n",
       "    <tr>\n",
       "      <th>Martes</th>\n",
       "      <td>0.0</td>\n",
       "      <td>0.0</td>\n",
       "      <td>89192</td>\n",
       "      <td>1846</td>\n",
       "      <td>87109</td>\n",
       "      <td>203670</td>\n",
       "      <td>2350</td>\n",
       "      <td>201320</td>\n",
       "      <td>567</td>\n",
       "      <td>523</td>\n",
       "      <td>...</td>\n",
       "      <td>646.0</td>\n",
       "      <td>51.0</td>\n",
       "      <td>4.0</td>\n",
       "      <td>31.0</td>\n",
       "      <td>1.0</td>\n",
       "      <td>1.0</td>\n",
       "      <td>24</td>\n",
       "      <td>13</td>\n",
       "      <td>0.001104</td>\n",
       "      <td>0.044022</td>\n",
       "    </tr>\n",
       "    <tr>\n",
       "      <th>Sábado</th>\n",
       "      <td>0.0</td>\n",
       "      <td>0.0</td>\n",
       "      <td>225734</td>\n",
       "      <td>9438</td>\n",
       "      <td>216775</td>\n",
       "      <td>474465</td>\n",
       "      <td>12850</td>\n",
       "      <td>461615</td>\n",
       "      <td>5835</td>\n",
       "      <td>5631</td>\n",
       "      <td>...</td>\n",
       "      <td>11012.0</td>\n",
       "      <td>751.0</td>\n",
       "      <td>8.0</td>\n",
       "      <td>34.0</td>\n",
       "      <td>4.0</td>\n",
       "      <td>3.0</td>\n",
       "      <td>123</td>\n",
       "      <td>78</td>\n",
       "      <td>5.699404</td>\n",
       "      <td>1.160165</td>\n",
       "    </tr>\n",
       "    <tr>\n",
       "      <th>Viernes</th>\n",
       "      <td>0.0</td>\n",
       "      <td>0.0</td>\n",
       "      <td>177621</td>\n",
       "      <td>10765</td>\n",
       "      <td>166848</td>\n",
       "      <td>345113</td>\n",
       "      <td>14740</td>\n",
       "      <td>330370</td>\n",
       "      <td>5964</td>\n",
       "      <td>5729</td>\n",
       "      <td>...</td>\n",
       "      <td>7666.0</td>\n",
       "      <td>752.0</td>\n",
       "      <td>10.0</td>\n",
       "      <td>418.0</td>\n",
       "      <td>0.0</td>\n",
       "      <td>0.0</td>\n",
       "      <td>174</td>\n",
       "      <td>82</td>\n",
       "      <td>6.379316</td>\n",
       "      <td>7.222028</td>\n",
       "    </tr>\n",
       "  </tbody>\n",
       "</table>\n",
       "<p>6 rows × 48 columns</p>\n",
       "</div>"
      ],
      "text/plain": [
       "         Countries  Languages  Lifetime Post Total Reach  \\\n",
       "Dia                                                        \n",
       "Domingo        0.0        0.0                        630   \n",
       "Jueves         0.0        0.0                       1247   \n",
       "Lunes          0.0        0.0                        435   \n",
       "Martes         0.0        0.0                      89192   \n",
       "Sábado         0.0        0.0                     225734   \n",
       "Viernes        0.0        0.0                     177621   \n",
       "\n",
       "         Lifetime Post organic reach  Lifetime Post Paid Reach  \\\n",
       "Dia                                                              \n",
       "Domingo                          630                         0   \n",
       "Jueves                          1247                         0   \n",
       "Lunes                            435                         0   \n",
       "Martes                          1846                     87109   \n",
       "Sábado                          9438                    216775   \n",
       "Viernes                        10765                    166848   \n",
       "\n",
       "         Lifetime Post Total Impressions  Lifetime Post Organic Impressions  \\\n",
       "Dia                                                                           \n",
       "Domingo                              838                                838   \n",
       "Jueves                              1757                               1757   \n",
       "Lunes                                635                                635   \n",
       "Martes                            203670                               2350   \n",
       "Sábado                            474465                              12850   \n",
       "Viernes                           345113                              14740   \n",
       "\n",
       "         Lifetime Post Paid Impressions  Lifetime Engaged Users  \\\n",
       "Dia                                                               \n",
       "Domingo                               0                      83   \n",
       "Jueves                                0                     593   \n",
       "Lunes                                 0                     120   \n",
       "Martes                           201320                     567   \n",
       "Sábado                           461615                    5835   \n",
       "Viernes                          330370                    5964   \n",
       "\n",
       "         Lifetime Matched Audience Targeting Consumers on Post  ...  \\\n",
       "Dia                                                             ...   \n",
       "Domingo                                                 75      ...   \n",
       "Jueves                                                 579      ...   \n",
       "Lunes                                                  103      ...   \n",
       "Martes                                                 523      ...   \n",
       "Sábado                                                5631      ...   \n",
       "Viernes                                               5729      ...   \n",
       "\n",
       "         Lifetime Matched Audience Targeting Consumptions by Type - video play  \\\n",
       "Dia                                                                              \n",
       "Domingo                                              141.0                       \n",
       "Jueves                                               680.0                       \n",
       "Lunes                                                115.0                       \n",
       "Martes                                               646.0                       \n",
       "Sábado                                             11012.0                       \n",
       "Viernes                                             7666.0                       \n",
       "\n",
       "         Lifetime Matched Audience Targeting Consumptions by Type - other clicks  \\\n",
       "Dia                                                                                \n",
       "Domingo                                               36.0                         \n",
       "Jueves                                                73.0                         \n",
       "Lunes                                                 31.0                         \n",
       "Martes                                                51.0                         \n",
       "Sábado                                               751.0                         \n",
       "Viernes                                              752.0                         \n",
       "\n",
       "         Lifetime Matched Audience Targeting Consumptions by Type - link clicks  \\\n",
       "Dia                                                                               \n",
       "Domingo                                                0.0                        \n",
       "Jueves                                                 0.0                        \n",
       "Lunes                                                  0.0                        \n",
       "Martes                                                 4.0                        \n",
       "Sábado                                                 8.0                        \n",
       "Viernes                                               10.0                        \n",
       "\n",
       "         Lifetime Matched Audience Targeting Consumptions by Type - photo view  \\\n",
       "Dia                                                                              \n",
       "Domingo                                                0.0                       \n",
       "Jueves                                                 0.0                       \n",
       "Lunes                                                 12.0                       \n",
       "Martes                                                31.0                       \n",
       "Sábado                                                34.0                       \n",
       "Viernes                                              418.0                       \n",
       "\n",
       "         Lifetime Negative Feedback from Users by Type - hide_all_clicks  \\\n",
       "Dia                                                                        \n",
       "Domingo                                                0.0                 \n",
       "Jueves                                                 0.0                 \n",
       "Lunes                                                  1.0                 \n",
       "Martes                                                 1.0                 \n",
       "Sábado                                                 4.0                 \n",
       "Viernes                                                0.0                 \n",
       "\n",
       "         Lifetime Negative Feedback by Type - hide_all_clicks  Hora  Mes  \\\n",
       "Dia                                                                        \n",
       "Domingo                                                0.0        6    3   \n",
       "Jueves                                                 0.0       21   11   \n",
       "Lunes                                                  1.0       13    6   \n",
       "Martes                                                 1.0       24   13   \n",
       "Sábado                                                 3.0      123   78   \n",
       "Viernes                                                0.0      174   82   \n",
       "\n",
       "              VTR      E.R.  \n",
       "Dia                          \n",
       "Domingo  0.211111  0.041270  \n",
       "Jueves   1.506244  0.176583  \n",
       "Lunes    0.340376  1.836463  \n",
       "Martes   0.001104  0.044022  \n",
       "Sábado   5.699404  1.160165  \n",
       "Viernes  6.379316  7.222028  \n",
       "\n",
       "[6 rows x 48 columns]"
      ]
     },
     "execution_count": 9,
     "metadata": {},
     "output_type": "execute_result"
    }
   ],
   "source": [
    "df.groupby('Dia').sum()"
   ]
  },
  {
   "cell_type": "code",
   "execution_count": 49,
   "metadata": {},
   "outputs": [
    {
     "data": {
      "text/plain": [
       "10"
      ]
     },
     "execution_count": 49,
     "metadata": {},
     "output_type": "execute_result"
    }
   ],
   "source": [
    "len(df[df['Mes'] == 6])"
   ]
  },
  {
   "cell_type": "code",
   "execution_count": 51,
   "metadata": {},
   "outputs": [
    {
     "data": {
      "text/plain": [
       "109.4"
      ]
     },
     "execution_count": 51,
     "metadata": {},
     "output_type": "execute_result"
    }
   ],
   "source": [
    "f.sum()/10"
   ]
  },
  {
   "cell_type": "code",
   "execution_count": 29,
   "metadata": {},
   "outputs": [],
   "source": [
    "f=df['Lifetime Talking About This (Post) by action type - share']+ df['Lifetime Post Audience Targeting Unique Consumptions by Type - other clicks'] + df['Lifetime Post Audience Targeting Unique Consumptions by Type - link clicks']"
   ]
  },
  {
   "cell_type": "code",
   "execution_count": 15,
   "metadata": {},
   "outputs": [],
   "source": [
    "x=df['Lifetime Talking About This (Post) by action type - like'] + df['Lifetime Talking About This (Post) by action type - share']+ df['Lifetime Post Audience Targeting Unique Consumptions by Type - other clicks'] + df['Lifetime Post Audience Targeting Unique Consumptions by Type - link clicks']"
   ]
  },
  {
   "cell_type": "code",
   "execution_count": 15,
   "metadata": {},
   "outputs": [],
   "source": [
    "x.to_csv('Cambios_BR.csv', decimal=\".\")"
   ]
  },
  {
   "cell_type": "code",
   "execution_count": 10,
   "metadata": {},
   "outputs": [],
   "source": [
    "df=df.drop(['Post Message'], axis=1)"
   ]
  },
  {
   "cell_type": "code",
   "execution_count": 11,
   "metadata": {},
   "outputs": [],
   "source": [
    "df.VTR=df.VTR.round(4)\n",
    "df.VTR=df.VTR.astype(float)\n",
    "\n",
    "df['E.R.']=df['E.R.'].round(4)\n",
    "#df['E.R.']=df['E.R.'].astype(float)"
   ]
  },
  {
   "cell_type": "code",
   "execution_count": 12,
   "metadata": {},
   "outputs": [],
   "source": [
    "df['E.R.'].values[df['E.R.'] > 1] = 0\n",
    "df['VTR'].values[df['VTR'] > 1] = 0"
   ]
  },
  {
   "cell_type": "code",
   "execution_count": 14,
   "metadata": {},
   "outputs": [],
   "source": [
    "df.to_csv('FB_juliotodoanio.csv', index=False, sep=',', encoding = 'utf-8')"
   ]
  },
  {
   "cell_type": "code",
   "execution_count": 211,
   "metadata": {},
   "outputs": [],
   "source": [
    "#with pd.ExcelWriter('output.xls') as writer:  # doctest: +SKIP\n",
    "#...     df.to_excel(writer, sheet_name='Sheet_name_1')\n",
    "#...     x.to_excel(writer, sheet_name='Sheet_name_2')"
   ]
  },
  {
   "cell_type": "markdown",
   "metadata": {},
   "source": [
    "# Facebook - Followers\n"
   ]
  },
  {
   "cell_type": "code",
   "execution_count": 46,
   "metadata": {},
   "outputs": [],
   "source": [
    "df5 = pd.read_csv(files[5],sep=',', skiprows=[1])"
   ]
  },
  {
   "cell_type": "code",
   "execution_count": 48,
   "metadata": {},
   "outputs": [],
   "source": [
    "df5=df5.iloc[:,:12]\n",
    "df5['Date']= pd.to_datetime(df5['Date']) "
   ]
  },
  {
   "cell_type": "code",
   "execution_count": 49,
   "metadata": {},
   "outputs": [],
   "source": [
    "df5.to_csv('FB_followers_br.csv',  index=False)"
   ]
  },
  {
   "cell_type": "markdown",
   "metadata": {},
   "source": [
    "# Facebook - ads\n"
   ]
  },
  {
   "cell_type": "code",
   "execution_count": 61,
   "metadata": {},
   "outputs": [],
   "source": [
    "df6 = pd.read_csv(files[-1],sep=',')"
   ]
  },
  {
   "cell_type": "code",
   "execution_count": 62,
   "metadata": {},
   "outputs": [],
   "source": [
    "df6=df6.fillna(0)"
   ]
  },
  {
   "cell_type": "code",
   "execution_count": 66,
   "metadata": {},
   "outputs": [
    {
     "data": {
      "text/plain": [
       "0        3.818160\n",
       "1        6.362838\n",
       "2      575.071622\n",
       "3       67.164299\n",
       "4       75.559837\n",
       "5      237.473772\n",
       "6        6.119895\n",
       "7       15.056361\n",
       "8        2.442773\n",
       "9        5.106963\n",
       "10       2.867299\n",
       "11    2914.746575\n",
       "12      52.667450\n",
       "13       2.421478\n",
       "14       3.458684\n",
       "15       9.347061\n",
       "16       4.685933\n",
       "17       3.897541\n",
       "18       4.000724\n",
       "Name: Reach, dtype: float64"
      ]
     },
     "execution_count": 66,
     "metadata": {},
     "output_type": "execute_result"
    }
   ],
   "source": [
    "df6['3-Second Video Views'].sum() / df6['Reach']"
   ]
  },
  {
   "cell_type": "code",
   "execution_count": 64,
   "metadata": {},
   "outputs": [],
   "source": [
    "df6['VTR'] = df6['3-Second Video Views'] / df6['Reach']\n",
    "\n",
    "df6['E.R.'] =(df6['Post Reactions'] + df6['Post Comments'] + df6['Post Shares']+ df6['Link Clicks']) / df6['Reach']\n"
   ]
  },
  {
   "cell_type": "code",
   "execution_count": 65,
   "metadata": {},
   "outputs": [
    {
     "data": {
      "text/plain": [
       "0     0.460652\n",
       "1     0.191744\n",
       "2     0.105405\n",
       "3     1.647412\n",
       "4     0.158203\n",
       "5     2.032924\n",
       "6     0.298838\n",
       "7     0.166431\n",
       "8     0.264430\n",
       "9     0.423903\n",
       "10    0.227246\n",
       "11    0.246575\n",
       "12    1.183416\n",
       "13    0.429962\n",
       "14    0.281293\n",
       "15    0.356594\n",
       "16    0.199141\n",
       "17    0.211384\n",
       "18    0.268565\n",
       "Name: VTR, dtype: float64"
      ]
     },
     "execution_count": 65,
     "metadata": {},
     "output_type": "execute_result"
    }
   ],
   "source": [
    "df6.VTR"
   ]
  },
  {
   "cell_type": "code",
   "execution_count": 18,
   "metadata": {},
   "outputs": [],
   "source": [
    "df6.to_csv('ADS_junio.csv',  index=False)"
   ]
  },
  {
   "cell_type": "code",
   "execution_count": 56,
   "metadata": {},
   "outputs": [
    {
     "data": {
      "text/plain": [
       "instagram           12\n",
       "facebook             4\n",
       "audience_network     3\n",
       "Name: Platform, dtype: int64"
      ]
     },
     "execution_count": 56,
     "metadata": {},
     "output_type": "execute_result"
    }
   ],
   "source": [
    "df6.Platform.value_counts()"
   ]
  },
  {
   "cell_type": "markdown",
   "metadata": {},
   "source": [
    "## ADS + organic"
   ]
  },
  {
   "cell_type": "code",
   "execution_count": 64,
   "metadata": {},
   "outputs": [],
   "source": [
    "df7 = pd.DataFrame()\n",
    "\n",
    "df7['Reactions'] = df6['Post Reactions'] + (df['Lifetime Talking About This (Post) by action type - like'][df['Lifetime Post Paid Reach'] == 0])\n",
    "\n",
    "df7['Comments'] = df6['Post Comments'] + (df['Lifetime Talking About This (Post) by action type - comment'][df['Lifetime Post Paid Reach'] == 0])\n",
    "\n",
    "df7['Shares'] = df6['Post Shares'] + (df['Lifetime Talking About This (Post) by action type - share'][df['Lifetime Post Paid Reach'] == 0])\n",
    "\n",
    "df7.to_csv('Final.csv', sep=',')"
   ]
  },
  {
   "cell_type": "markdown",
   "metadata": {},
   "source": [
    "# Instagram - Posts"
   ]
  },
  {
   "cell_type": "code",
   "execution_count": 16,
   "metadata": {},
   "outputs": [],
   "source": [
    "df2= pd.read_excel(open('rolling-export-nogginla-936364-1125393-20190301-20190630-1562269649.xlsx', 'rb'),\n",
    "...               sheet_name='My media', skiprows=[0])"
   ]
  },
  {
   "cell_type": "code",
   "execution_count": 17,
   "metadata": {},
   "outputs": [],
   "source": [
    "df2=df2.drop(['Caption'], axis=1)\n",
    "\n",
    "new2 = df2['Date and time'].str.split(\" \", n = 1, expand = True) \n",
    "df2['Fecha'] = new2[0]\n",
    "df2['Hora'] = new2[1]\n",
    "df2['Dia'] = pd.DatetimeIndex(df2['Fecha']).dayofweek\n",
    "dayDict = {6:'Domingo', 0:'Lunes', 1:'Martes', 2:'Miércoles', 3:'Jueves', 4: 'Viernes', 5:'Sábado' }\n",
    "df2['Dia']=df2['Dia'].map(dayDict)\n",
    "\n",
    "df2['Fecha']= pd.to_datetime(df2['Fecha']) \n",
    "df2['Mes'] = df2.Fecha.dt.month\n",
    "df2['Hora']= pd.to_datetime(df2['Hora']) \n",
    "df2['Hora'] =  df2.Hora.dt.hour\n",
    "\n",
    "\n",
    "df2=df2.fillna(0)\n",
    "\n",
    "df2['VTR'] =  df2['Views'] / df2['Reach']"
   ]
  },
  {
   "cell_type": "code",
   "execution_count": 9,
   "metadata": {},
   "outputs": [],
   "source": [
    "df2.to_csv('IG_post_la.csv', index=False)"
   ]
  },
  {
   "cell_type": "code",
   "execution_count": 76,
   "metadata": {},
   "outputs": [
    {
     "data": {
      "text/plain": [
       "['Date and time',\n",
       " 'Media posted',\n",
       " 'Type',\n",
       " 'Promoted',\n",
       " 'Likes',\n",
       " 'Likes organic',\n",
       " 'Likes paid',\n",
       " 'Comments',\n",
       " 'Comments organic',\n",
       " 'Comments paid',\n",
       " 'Saves',\n",
       " 'Impressions',\n",
       " 'Impressions organic',\n",
       " 'Impressions paid',\n",
       " 'Reach',\n",
       " 'Reach organic',\n",
       " 'Reach paid',\n",
       " 'Views',\n",
       " 'Reach rate',\n",
       " 'Reach rate organic',\n",
       " 'Reach rate paid',\n",
       " 'Engagement rate',\n",
       " 'Engagement rate organic',\n",
       " 'Engagement rate paid',\n",
       " 'Engagement on reach',\n",
       " 'Engagement on reach organic',\n",
       " 'Engagement on reach paid',\n",
       " 'Love rate',\n",
       " 'Talk rate',\n",
       " 'Number of tags',\n",
       " 'Filter',\n",
       " 'Instagram URL',\n",
       " 'Media direct URL',\n",
       " 'Location',\n",
       " 'Fecha',\n",
       " 'Hora',\n",
       " 'Dia',\n",
       " 'Mes']"
      ]
     },
     "execution_count": 76,
     "metadata": {},
     "output_type": "execute_result"
    }
   ],
   "source": [
    "list(df2)"
   ]
  },
  {
   "cell_type": "markdown",
   "metadata": {},
   "source": [
    "# Instagram - Stories"
   ]
  },
  {
   "cell_type": "code",
   "execution_count": 70,
   "metadata": {},
   "outputs": [],
   "source": [
    "df3= pd.read_excel(open('rolling-export-nogginla-936364-1125393-20190301-20190630-1562269649.xlsx', 'rb'),\n",
    "...               sheet_name='My stories', skiprows=[0])"
   ]
  },
  {
   "cell_type": "code",
   "execution_count": 71,
   "metadata": {},
   "outputs": [],
   "source": [
    "new3 = df3['Date and time'].str.split(\" \", n = 1, expand = True) \n",
    "df3['Fecha'] = new3[0]\n",
    "df3['Hora'] = new3[1]\n",
    "df3['Dia'] = pd.DatetimeIndex(df3['Fecha']).dayofweek\n",
    "dayDict = {6:'Domingo', 0:'Lunes', 1:'Martes', 2:'Miércoles', 3:'Jueves', 4: 'Viernes', 5:'Sábado' }\n",
    "df3['Dia']=df3['Dia'].map(dayDict)\n",
    "\n",
    "df3['Fecha']= pd.to_datetime(df3['Fecha']) \n",
    "df3['Mes'] = df3.Fecha.dt.month\n",
    "df3['Hora']= pd.to_datetime(df3['Hora']) \n",
    "df3['Hora'] =  df3.Hora.dt.hour\n",
    "\n",
    "\n",
    "df3=df3.fillna(0)"
   ]
  },
  {
   "cell_type": "code",
   "execution_count": 72,
   "metadata": {},
   "outputs": [],
   "source": [
    "df3.to_csv('IgStories_la.csv', index=False)"
   ]
  },
  {
   "cell_type": "markdown",
   "metadata": {},
   "source": [
    "# Instagram - Likes"
   ]
  },
  {
   "cell_type": "code",
   "execution_count": 73,
   "metadata": {},
   "outputs": [],
   "source": [
    "df4= pd.read_excel(open('rolling-export-nogginla-936364-1125393-20190301-20190630-1562269649.xlsx', 'rb'),\n",
    "...               sheet_name='Followers Growth', skiprows=0)"
   ]
  },
  {
   "cell_type": "code",
   "execution_count": 74,
   "metadata": {},
   "outputs": [],
   "source": [
    "df4=df4.iloc[:,:4]\n",
    "df4['Day']= pd.to_datetime(df4['Day']) "
   ]
  },
  {
   "cell_type": "code",
   "execution_count": 63,
   "metadata": {},
   "outputs": [
    {
     "data": {
      "text/html": [
       "<div>\n",
       "<style scoped>\n",
       "    .dataframe tbody tr th:only-of-type {\n",
       "        vertical-align: middle;\n",
       "    }\n",
       "\n",
       "    .dataframe tbody tr th {\n",
       "        vertical-align: top;\n",
       "    }\n",
       "\n",
       "    .dataframe thead th {\n",
       "        text-align: right;\n",
       "    }\n",
       "</style>\n",
       "<table border=\"1\" class=\"dataframe\">\n",
       "  <thead>\n",
       "    <tr style=\"text-align: right;\">\n",
       "      <th></th>\n",
       "      <th>Day</th>\n",
       "      <th>Followers</th>\n",
       "      <th>Evolution</th>\n",
       "      <th>Media posted</th>\n",
       "    </tr>\n",
       "  </thead>\n",
       "  <tbody>\n",
       "    <tr>\n",
       "      <th>0</th>\n",
       "      <td>2019-03-01</td>\n",
       "      <td>2929</td>\n",
       "      <td>0.0000</td>\n",
       "      <td>0</td>\n",
       "    </tr>\n",
       "    <tr>\n",
       "      <th>1</th>\n",
       "      <td>2019-03-02</td>\n",
       "      <td>2924</td>\n",
       "      <td>-0.0017</td>\n",
       "      <td>0</td>\n",
       "    </tr>\n",
       "    <tr>\n",
       "      <th>2</th>\n",
       "      <td>2019-03-03</td>\n",
       "      <td>2923</td>\n",
       "      <td>-0.0003</td>\n",
       "      <td>0</td>\n",
       "    </tr>\n",
       "    <tr>\n",
       "      <th>3</th>\n",
       "      <td>2019-03-04</td>\n",
       "      <td>2920</td>\n",
       "      <td>-0.0010</td>\n",
       "      <td>0</td>\n",
       "    </tr>\n",
       "    <tr>\n",
       "      <th>4</th>\n",
       "      <td>2019-03-05</td>\n",
       "      <td>2918</td>\n",
       "      <td>-0.0007</td>\n",
       "      <td>0</td>\n",
       "    </tr>\n",
       "  </tbody>\n",
       "</table>\n",
       "</div>"
      ],
      "text/plain": [
       "         Day  Followers  Evolution  Media posted\n",
       "0 2019-03-01       2929     0.0000             0\n",
       "1 2019-03-02       2924    -0.0017             0\n",
       "2 2019-03-03       2923    -0.0003             0\n",
       "3 2019-03-04       2920    -0.0010             0\n",
       "4 2019-03-05       2918    -0.0007             0"
      ]
     },
     "execution_count": 63,
     "metadata": {},
     "output_type": "execute_result"
    }
   ],
   "source": [
    "df4.head()\n"
   ]
  },
  {
   "cell_type": "code",
   "execution_count": 75,
   "metadata": {},
   "outputs": [],
   "source": [
    "df4.to_csv('IGLikes_la.csv', index=False)"
   ]
  }
 ],
 "metadata": {
  "kernelspec": {
   "display_name": "Python 3",
   "language": "python",
   "name": "python3"
  },
  "language_info": {
   "codemirror_mode": {
    "name": "ipython",
    "version": 3
   },
   "file_extension": ".py",
   "mimetype": "text/x-python",
   "name": "python",
   "nbconvert_exporter": "python",
   "pygments_lexer": "ipython3",
   "version": "3.7.3"
  }
 },
 "nbformat": 4,
 "nbformat_minor": 2
}

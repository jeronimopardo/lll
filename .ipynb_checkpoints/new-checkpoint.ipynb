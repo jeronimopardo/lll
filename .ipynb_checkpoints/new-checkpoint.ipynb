{
 "cells": [
  {
   "cell_type": "code",
   "execution_count": 1,
   "metadata": {},
   "outputs": [],
   "source": [
    "import pandas as pd\n",
    "from glob import glob\n",
    "import numpy as np\n",
    "import seaborn as sns\n",
    "import re"
   ]
  },
  {
   "cell_type": "code",
   "execution_count": 22,
   "metadata": {},
   "outputs": [],
   "source": [
    "files=glob(r'C:\\Users\\Jeronimo.Pardo\\Documents\\lll\\Noggin new\\*.csv')\n",
    "\n",
    "br_post= [x for x in files if re.search(r'.*\\(Post Level\\) - Noggin BR*', x)]\n",
    "la_post= [x for x in files if re.search(r'.*\\(Post Level\\) - Noggin La*', x)]"
   ]
  },
  {
   "cell_type": "markdown",
   "metadata": {},
   "source": [
    "## FB Post LA"
   ]
  },
  {
   "cell_type": "code",
   "execution_count": 70,
   "metadata": {},
   "outputs": [],
   "source": [
    "fb_post_la= pd.read_csv(la_post[0],sep=',', skiprows=[1], index_col=False)\n",
    "\n",
    "fb_post_br= pd.read_csv(br_post[0],sep=',', skiprows=[1], index_col=False)\n",
    "\n",
    "fb_post_br['Region'] = 'Brasil'\n",
    "fb_post_la['Region'] = 'Latinoamérica'\n",
    "\n",
    "df_post_fb=fb_post_br.append(fb_post_la)\n",
    "\n",
    "## Fechas\n",
    "\n",
    "new = df_post_fb['Posted'].str.split(\" \", n = 1, expand = True) \n",
    "df_post_fb['Fecha'] = new[0]\n",
    "df_post_fb['Hora'] = new[1]\n",
    "df_post_fb['Dia'] = pd.DatetimeIndex(df_post_fb['Fecha']).dayofweek\n",
    "dayDict = {6:'Domingo', 0:'Lunes', 1:'Martes', 2:'Miércoles', 3:'Jueves', 4: 'Viernes', 5:'Sábado' }\n",
    "df_post_fb['Dia']=df_post_fb['Dia'].map(dayDict)\n",
    "\n",
    "df_post_fb['Fecha']= pd.to_datetime(df_post_fb['Fecha']) \n",
    "df_post_fb['Mes'] = df_post_fb.Fecha.dt.month\n",
    "df_post_fb['Hora']= pd.to_datetime(df_post_fb['Hora']) \n",
    "df_post_fb['Hora'] =  df_post_fb.Hora.dt.hour\n",
    "\n",
    "\n",
    "##Campos calculados\n",
    "df_post_fb=df_post_fb.fillna(0)\n",
    "df_post_fb['VTR'] = df_post_fb['Lifetime Organic Video Views'] / df_post_fb['Lifetime Post Total Reach']\n",
    "\n",
    "df_post_fb['E.R.'] =(df_post_fb['Lifetime Talking About This (Post) by action type - comment'] + df_post_fb['Lifetime Talking About This (Post) by action type - like'] + df_post_fb['Lifetime Talking About This (Post) by action type - share']+ df_post_fb['Lifetime Post Audience Targeting Unique Consumptions by Type - other clicks'] + df_post_fb['Lifetime Post Audience Targeting Unique Consumptions by Type - link clicks']) / df_post_fb['Lifetime Post Total Reach']\n",
    "df_post_fb=df_post_fb.replace([np.inf, -np.inf], np.nan)\n",
    "\n",
    "df_post_fb=df_post_fb.fillna(0)\n"
   ]
  },
  {
   "cell_type": "code",
   "execution_count": 78,
   "metadata": {},
   "outputs": [],
   "source": [
    "df_post_fb.to_csv('Noggin_fb_post.csv', index=False)"
   ]
  },
  {
   "cell_type": "code",
   "execution_count": 54,
   "metadata": {},
   "outputs": [],
   "source": [
    "fb_post_br= pd.read_csv(br_post[0],sep=',', skiprows=[1], index_col=False)"
   ]
  },
  {
   "cell_type": "markdown",
   "metadata": {},
   "source": [
    "## IG Post LA"
   ]
  },
  {
   "cell_type": "code",
   "execution_count": 12,
   "metadata": {},
   "outputs": [],
   "source": [
    "ig_post_la= pd.read_excel(open('rolling-export-nogginla-936364-1125393-20190201-20190630-1564153006.xlsx', 'rb'),\n",
    "...               sheet_name='My media', skiprows=[0])"
   ]
  },
  {
   "cell_type": "code",
   "execution_count": 13,
   "metadata": {},
   "outputs": [],
   "source": [
    "ig_post_la=ig_post_la.drop(['Caption'], axis=1)\n",
    "\n",
    "new2 = ig_post_la['Date and time'].str.split(\" \", n = 1, expand = True) \n",
    "ig_post_la['Fecha'] = new2[0]\n",
    "ig_post_la['Hora'] = new2[1]\n",
    "ig_post_la['Dia'] = pd.DatetimeIndex(ig_post_la['Fecha']).dayofweek\n",
    "dayDict = {6:'Domingo', 0:'Lunes', 1:'Martes', 2:'Miércoles', 3:'Jueves', 4: 'Viernes', 5:'Sábado' }\n",
    "ig_post_la['Dia']=ig_post_la['Dia'].map(dayDict)\n",
    "\n",
    "ig_post_la['Fecha']= pd.to_datetime(ig_post_la['Fecha']) \n",
    "ig_post_la['Mes'] = ig_post_la.Fecha.dt.month\n",
    "ig_post_la['Hora']= pd.to_datetime(ig_post_la['Hora']) \n",
    "ig_post_la['Hora'] =  ig_post_la.Hora.dt.hour\n",
    "\n",
    "\n",
    "ig_post_la=ig_post_la.fillna(0)\n",
    "\n",
    "ig_post_la['VTR'] =  ig_post_la['Views'] / ig_post_la['Reach']"
   ]
  },
  {
   "cell_type": "code",
   "execution_count": 33,
   "metadata": {},
   "outputs": [
    {
     "data": {
      "text/plain": [
       "2469.0"
      ]
     },
     "execution_count": 33,
     "metadata": {},
     "output_type": "execute_result"
    }
   ],
   "source": [
    "ig_post_la.Views.sum()"
   ]
  },
  {
   "cell_type": "markdown",
   "metadata": {},
   "source": [
    "## Evolución LA"
   ]
  },
  {
   "cell_type": "code",
   "execution_count": 87,
   "metadata": {},
   "outputs": [],
   "source": [
    "f= fb_post_la.groupby('Mes')['Lifetime Post Total Reach','Lifetime Paid Video Views'].sum().reset_index()\n",
    "\n",
    "i = ig_post_la.groupby('Mes')['Reach', 'Views'].sum().reset_index()\n",
    "\n",
    "fi= pd.merge(f,i)\n",
    "\n",
    "fi['Views Total'] = fi['Lifetime Paid Video Views'] + fi['Views']\n",
    "\n",
    "fi['Views Total'] = fi['Views Total'].apply(lambda x: int(x))\n",
    "\n",
    "fi.drop('Views', axis=1, inplace=True)\n",
    "fi['Alcance Total'] = fi['Lifetime Post Total Reach'] + fi['Reach']"
   ]
  },
  {
   "cell_type": "code",
   "execution_count": 88,
   "metadata": {},
   "outputs": [],
   "source": [
    "mesDict = {2:'Febrero', 3:'Marzo', 4:'Abril', 5:'Mayo', 6:'Junio', 7: 'Julio', 8:'Agosto', 9:'Septiembre', 10:'Octubre', 11:'Noviembre', 12:'Diciembre' }\n",
    "fi['Mes2']=fi['Mes'].map(mesDict)"
   ]
  },
  {
   "cell_type": "code",
   "execution_count": 89,
   "metadata": {},
   "outputs": [],
   "source": [
    "fi = fi[['Mes2', 'Mes','Alcance Total', 'Views Total']]"
   ]
  },
  {
   "cell_type": "code",
   "execution_count": 90,
   "metadata": {},
   "outputs": [],
   "source": [
    "fi.to_csv('EvolLA.csv', index=False)"
   ]
  }
 ],
 "metadata": {
  "kernelspec": {
   "display_name": "Python 3",
   "language": "python",
   "name": "python3"
  },
  "language_info": {
   "codemirror_mode": {
    "name": "ipython",
    "version": 3
   },
   "file_extension": ".py",
   "mimetype": "text/x-python",
   "name": "python",
   "nbconvert_exporter": "python",
   "pygments_lexer": "ipython3",
   "version": "3.7.3"
  }
 },
 "nbformat": 4,
 "nbformat_minor": 2
}
